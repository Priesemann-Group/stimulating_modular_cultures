{
 "cells": [
  {
   "cell_type": "markdown",
   "metadata": {},
   "source": [
    "# Data generation"
   ]
  },
  {
   "cell_type": "markdown",
   "metadata": {},
   "source": [
    "# Analysis of Experimental Data\n",
    "\n",
    "Most of the analysis is the same for experiments and simulations.\n",
    "The comparison across conditions is implemented in a stand-alone script `ana/process_conditions.py`, that can be run from a terminal and takes a the following arguments:\n",
    "* `-i` the base path to the folder where the data is stored.\n",
    "* `-t` the type of experiment (yields the right subfolders and file names):\n",
    "    - `exp` for main results, from optogenetic stimulation and different topologies\n",
    "    - `exp_chemical` for the experiments with KCl\n",
    "    - `exp_bic` for the experiments with Bicuculline\n",
    "    - `sim_partial` for simulations where only part of the system was targeted.\n",
    "* `-o` where to store the output path.\n",
    "\n",
    "To create the preprocessed data, navigate to the base directory and run:\n",
    "```bash\n",
    "python ./ana/process_conditions.py -t exp -i ./dat/experiments/raw/  -o ./dat/experiments/processed/\n",
    "python ./ana/process_conditions.py -t exp_chemical -i ./dat/experiments/raw/ -o ./dat/experiments/processed/\n",
    "python ./ana/process_conditions.py -t exp_bic -i ./dat/experiments/raw/ -o ./dat/experiments/processed/\n",
    "```\n",
    "\n",
    "This should yield the following files:\n",
    "\n",
    "```bash\n",
    ">>> tree -L 2 --dirsfirst ./dat/experiments/processed/\n",
    "dat/experiments/processed/\n",
    "├── 1b\n",
    "│   ├── 210315_A\n",
    "│   ├── 210315_C\n",
    "│   ├── 210405_C\n",
    "│   ├── 210406_B\n",
    "│   ├── 210406_C\n",
    "│   ├── 210719_B\n",
    "│   ├── 210719_C\n",
    "│   └── 210726_B\n",
    "├── 3b\n",
    "│   ├── 210316_A\n",
    "│   ...\n",
    "├── Bicuculline_1b\n",
    "│   ├── 210907_1bB\n",
    "│   ...\n",
    "├── KCl_1b\n",
    "│   ├── 210420_C\n",
    "│   ...\n",
    "├── merged\n",
    "│   ├── 210401_A\n",
    "│   ...\n",
    "├── 1b.hdf5\n",
    "├── 3b.hdf5\n",
    "├── Bicuculline_1b.hdf5\n",
    "├── KCl_1b.hdf5\n",
    "└── merged.hdf5\n",
    "```\n",
    "\n",
    "where the `*.hdf5` files contain the preprocessed data and the folders for each experiment have some additional info. See also `save_analysed_h5f` in `ana/process_conditions.py`.\n",
    "\n",
    "\n",
    "Plotting functions are contained in `ana/plot_helper.py` and the higher-level wrappers as well as further analysis are in `ana/paper_plots.py`"
   ]
  },
  {
   "cell_type": "code",
   "execution_count": null,
   "metadata": {},
   "outputs": [],
   "source": [
    "%load_ext autoreload\n",
    "%autoreload 2\n",
    "%reload_ext ipy_dict_hierarchy\n",
    "%config InlineBackend.figure_format = 'retina'\n",
    "\n",
    "import sys\n",
    "sys.path.append(\"../ana/\")\n",
    "\n",
    "import paper_plots as pp"
   ]
  },
  {
   "cell_type": "code",
   "execution_count": null,
   "metadata": {},
   "outputs": [],
   "source": [
    "# we have some global settings that you may want to tweak:\n",
    "pp.show_title = True\n",
    "pp.show_ylabel = True\n",
    "pp.fig_1(show_time_axis=True)"
   ]
  },
  {
   "cell_type": "code",
   "execution_count": null,
   "metadata": {},
   "outputs": [],
   "source": [
    "pp.show_title = True\n",
    "pp.show_ylabel = True\n",
    "pp.show_xlabel = True\n",
    "pp.fig_2()"
   ]
  },
  {
   "cell_type": "code",
   "execution_count": null,
   "metadata": {},
   "outputs": [],
   "source": [
    "pp.fig_3()"
   ]
  },
  {
   "cell_type": "code",
   "execution_count": null,
   "metadata": {},
   "outputs": [],
   "source": [
    "pp.fig_4(skip_rasters=False, skip_cycles=False, style_for_sm=True)"
   ]
  },
  {
   "cell_type": "code",
   "execution_count": null,
   "metadata": {},
   "outputs": [],
   "source": [
    "# to reproduce the SM figure for the case with blocked inhibition,\n",
    "# we need to tweak the file paths a bit:\n",
    "pp.fig_3(\n",
    "    # processed data frame\n",
    "    pd_path=f\"{pp.p_sim}/lif/processed/k=5_partial_no_inhib.hdf5\",\n",
    "    # raw data for rasters, note jG=0\n",
    "    raw_paths=[\n",
    "        f\"{pp.p_sim}/lif/raw/stim=02_k=5_jA=45.0_jG=0.0_jM=15.0_tD=20.0_rate=80.0_stimrate=0.0_rep=001.hdf5\",\n",
    "        f\"{pp.p_sim}/lif/raw/stim=02_k=5_jA=45.0_jG=0.0_jM=15.0_tD=20.0_rate=80.0_stimrate=20.0_rep=001.hdf5\",\n",
    "    ],\n",
    "\n",
    ")"
   ]
  },
  {
   "cell_type": "markdown",
   "metadata": {},
   "source": [
    "\n",
    "```bash\n",
    "python ./ana/process_conditions.py -t sim_partial -i ./dat/simulations/lif/raw/ -o ./dat/simulations/lif/processed/partial/\n",
    "```\n"
   ]
  }
 ],
 "metadata": {
  "kernelspec": {
   "display_name": "Python 3.10.5 ('modular_cultures')",
   "language": "python",
   "name": "python3"
  },
  "language_info": {
   "codemirror_mode": {
    "name": "ipython",
    "version": 3
   },
   "file_extension": ".py",
   "mimetype": "text/x-python",
   "name": "python",
   "nbconvert_exporter": "python",
   "pygments_lexer": "ipython3",
   "version": "3.10.5"
  },
  "orig_nbformat": 4,
  "vscode": {
   "interpreter": {
    "hash": "b6dc1a597d6faf0fa9edd83aa5bb0712fc8986db7d9fb6d2b84cf56a8bf3b013"
   }
  }
 },
 "nbformat": 4,
 "nbformat_minor": 2
}
